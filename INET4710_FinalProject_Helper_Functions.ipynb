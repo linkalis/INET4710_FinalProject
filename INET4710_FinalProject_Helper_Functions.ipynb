{
 "cells": [
  {
   "cell_type": "markdown",
   "metadata": {},
   "source": [
    "## Download NAIP Images"
   ]
  },
  {
   "cell_type": "code",
   "execution_count": null,
   "metadata": {},
   "outputs": [],
   "source": [
    "import boto3\n",
    "import os\n",
    "\n",
    "def download_naip_image(state, year, lat, lon, filename, save_directory):\n",
    "    '''\n",
    "    Given a year indicator, latitude, longitude, and NAIP filename, this function makes a call to the AWS S3 public\n",
    "    bucket that hosts the NAIP imagery and download the selected image to a specified save directory on the\n",
    "    user's computer.\n",
    "    '''\n",
    "    # AWS doesn't include the version date in the filename, so splice that off before appending to path_to_download\n",
    "    filename_shortened = filename[0:26] + \".tif\"\n",
    "\n",
    "    # Define the folder to search on AWS\n",
    "    path_to_download = state + '/' + str(year) + '/100cm/rgbir/' + str(lat) + '0' + str(lon) + '/' + filename_shortened\n",
    "    \n",
    "    # Initialize boto3 S3 client\n",
    "    #s3_client = boto3.client('s3')\n",
    "    s3_client = boto3.client(\n",
    "        's3',\n",
    "        # Hard coded strings as credentials, not recommended.\n",
    "        aws_access_key_id='<fill in here>',\n",
    "        aws_secret_access_key='<fill in here>'\n",
    "    )\n",
    "\n",
    "    # Define the path where we want to save the file\n",
    "    # Note: We'll make sure images are stored in separate directories by year\n",
    "    save_path = save_directory + '/' + str(year) + '/' + filename\n",
    "\n",
    "    # Check if this file already exists at the save path; if not, download it\n",
    "    if not os.path.exists(save_path):\n",
    "        save_path = save_directory + '/' + str(year) + '/' + filename\n",
    "        print(\"Downloading image: \" + path_to_download)\n",
    "        s3_client.download_file('naip-source', path_to_download, save_path, {'RequestPayer':'requester'})\n",
    "    else:\n",
    "        print(\"Looks like you've already downloaded this file.\")\n",
    "\n",
    "    print(\"Finished downloading image: \" + filename_shortened)"
   ]
  },
  {
   "cell_type": "code",
   "execution_count": null,
   "metadata": {},
   "outputs": [],
   "source": [
    "# Data for Duluth, MN\n",
    "mn_files_to_download = [\n",
    "    ('mn', 2013, 46, 92, 'm_4609215_sw_15_1_20130618_20130930.tif'),\n",
    "    ('mn', 2013, 46, 92, 'm_4609215_se_15_1_20130618_20130930.tif'),\n",
    "    ('mn', 2013, 46, 92, 'm_4609216_sw_15_1_20130618_20130930.tif'),\n",
    "    ('mn', 2013, 46, 92, 'm_4609223_nw_15_1_20130618_20130930.tif'),\n",
    "    ('mn', 2013, 46, 92, 'm_4609223_ne_15_1_20130618_20130930.tif'),\n",
    "    ('mn', 2013, 46, 92, 'm_4609224_nw_15_1_20130618_20130930.tif'),\n",
    "    ('mn', 2015, 46, 92, 'm_4609215_sw_15_1_20150922_20151221.tif'),\n",
    "    ('mn', 2015, 46, 92, 'm_4609215_se_15_1_20150922_20151221.tif'),\n",
    "    ('mn', 2015, 46, 92, 'm_4609216_sw_15_1_20150922_20151221.tif'),\n",
    "    ('mn', 2015, 46, 92, 'm_4609223_nw_15_1_20150922_20151221.tif'),\n",
    "    ('mn', 2015, 46, 92, 'm_4609223_ne_15_1_20150922_20151221.tif'),\n",
    "    ('mn', 2015, 46, 92, 'm_4609224_nw_15_1_20150922_20151221.tif')\n",
    "]\n",
    "\n",
    "# Data for Flint, Michigan\n",
    "mi_to_download = [\n",
    "    ('mi', 2014, 43, 83, 'm_4308358_ne_17_1_20140803_20141021.tif'), \n",
    "    ('mi', 2014, 43, 83, 'm_4308359_nw_17_1_20140722_20141021.tif'),\n",
    "    ('mi', 2014, 43, 83, 'm_4308359_ne_17_1_20140722_20141021.tif'),\n",
    "    ('mi', 2014, 43, 83, 'm_4308358_se_17_1_20140803_20141021.tif'),\n",
    "    ('mi', 2014, 43, 83, 'm_4308359_sw_17_1_20140722_20141021.tif'),\n",
    "    ('mi', 2014, 43, 83, 'm_4308359_se_17_1_20140722_20141021.tif'),\n",
    "    ('mi', 2014, 42, 83, 'm_4208302_ne_17_1_20140803_20141021.tif'),\n",
    "    ('mi', 2014, 42, 83, 'm_4208303_nw_17_1_20140722_20141021.tif'),\n",
    "    ('mi', 2014, 42, 83, 'm_4208303_ne_17_1_20140722_20141021.tif'),\n",
    "    ('mi', 2012, 43, 83, 'm_4308358_ne_17_1_20120627_20120911.tif'),\n",
    "    ('mi', 2012, 43, 83, 'm_4308359_nw_17_1_20120629_20120911.tif'),\n",
    "    ('mi', 2012, 43, 83, 'm_4308359_ne_17_1_20120629_20120911.tif'),\n",
    "    ('mi', 2012, 43, 83, 'm_4308358_se_17_1_20120627_20120911.tif'),\n",
    "    ('mi', 2012, 43, 83, 'm_4308359_sw_17_1_20120629_20120911.tif'),\n",
    "    ('mi', 2012, 43, 83, 'm_4308359_se_17_1_20120629_20120911.tif'),\n",
    "    ('mi', 2012, 42, 83, 'm_4208302_ne_17_1_20120627_20120911.tif'),\n",
    "    ('mi', 2012, 42, 83, 'm_4208303_nw_17_1_20120629_20120911.tif'),\n",
    "    ('mi', 2012, 42, 83, 'm_4208303_ne_17_1_20120629_20120911.tif')\n",
    "]\n",
    "\n",
    "for file in mn_files_to_download:\n",
    "    download_naip_image(file[0], file[1], file[2], file[3], file[4], \"./images/naip\")"
   ]
  }
 ],
 "metadata": {
  "kernelspec": {
   "display_name": "Python 3",
   "language": "python",
   "name": "python3"
  },
  "language_info": {
   "codemirror_mode": {
    "name": "ipython",
    "version": 3
   },
   "file_extension": ".py",
   "mimetype": "text/x-python",
   "name": "python",
   "nbconvert_exporter": "python",
   "pygments_lexer": "ipython3",
   "version": "3.7.1"
  }
 },
 "nbformat": 4,
 "nbformat_minor": 2
}
