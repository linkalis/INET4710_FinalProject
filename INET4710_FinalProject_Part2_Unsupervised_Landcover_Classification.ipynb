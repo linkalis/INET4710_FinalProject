{
 "cells": [
  {
   "cell_type": "markdown",
   "metadata": {},
   "source": [
    "# Unsupervised Landcover Classification via NMF"
   ]
  },
  {
   "cell_type": "code",
   "execution_count": 3,
   "metadata": {},
   "outputs": [],
   "source": [
    "data_filepath = str(u\"C:\\\\Users\\\\Alison Link\\\\Documents\\\\INET4710\\\\FinalProjectData\\\\\")\n",
    "\n",
    "train_images = [\n",
    "    data_filepath + u'naip\\\\2015\\\\twincities\\\\m_4409307_ne_15_1_20150927_20151221.tif' # just west of downtown St. Paul (by St. Paul campus)  \n",
    "]\n",
    "\n",
    "test_images = [\n",
    "    data_filepath + u'naip\\\\2015\\\\twincities\\\\m_4409306_ne_15_1_20150930_20151221.tif', # downtown Minneapolis\n",
    "    data_filepath + u'naip\\\\2015\\\\twincities\\\\m_4409307_nw_15_1_20150927_20151221.tif', # just east of downtown Minneapolis\n",
    "    data_filepath + u'naip\\\\2015\\\\twincities\\\\m_4409308_nw_15_1_20150927_20151221.tif', # downtown St. Paul\n",
    "    data_filepath + u'naip\\\\2015\\\\duluth\\\\m_4609215_se_15_1_20150922_20151221.tif', # Duluth north w/ some lake\n",
    "    data_filepath + u'naip\\\\2015\\\\duluth\\\\m_4609223_nw_15_1_20150922_20151221.tif', # Duluth w/ some lake\n",
    "    data_filepath + u'naip\\\\2015\\\\duluth\\\\m_4609216_sw_15_1_20150922_20151221.tif' # Duluth downtown w/ lots of lake  \n",
    "]\n",
    "\n",
    "import matplotlib.pyplot as plt\n",
    "%matplotlib inline"
   ]
  },
  {
   "cell_type": "markdown",
   "metadata": {},
   "source": [
    "## Reshape Data\n",
    "\n",
    "The first step in being able to run the NAIP imagery through a machine learning model is to coerce it into a format that is recognizable by scikit-learn and other standard libraries.  Generally, these kinds of modeling tools expect data to come formatted as a list.  Unfortunately, NAIP's standard structure looks like this:\n",
    "\n",
    "> ~5580 pixels (width) x ~7580 pixels (height) x 4 spectral bands (red, green, blue, near-infrared)\n",
    "\n",
    "The `make_img_long()` function below reshapes the data so it comes out like this:\n",
    "\n",
    "> 4 bands (columns) x ~4,200,000 pixels (rows)"
   ]
  },
  {
   "cell_type": "code",
   "execution_count": 8,
   "metadata": {},
   "outputs": [],
   "source": [
    "import time\n",
    "import numpy as np\n",
    "import pandas as pd\n",
    "import rasterio\n",
    "\n",
    "def make_img_long(img_filepath, compute_ndvi=False):\n",
    "    start = time.time()\n",
    "    \n",
    "    dataset = rasterio.open(img_filepath)\n",
    "    img_metadata = dataset.meta.copy() # need to make a copy of this so we're not manipulating it in place\n",
    "    img_3darray = dataset.read()\n",
    "    \n",
    "    # Save height and width values so we can reconstruct the image later\n",
    "    height = img_3darray.shape[1] \n",
    "    width = img_3darray.shape[2]\n",
    "    \n",
    "    # Convert raster to list, then to dataframe\n",
    "    # See: https://gis.stackexchange.com/questions/32995/how-to-fully-load-a-raster-into-a-numpy-array\n",
    "    img_list = img_3darray.transpose(1, 2, 0).reshape(-1, 4).astype(float)\n",
    "    out_df = pd.DataFrame(data=img_list)\n",
    "    \n",
    "    if compute_ndvi:\n",
    "        print(\"Computing NDVI\")\n",
    "        \n",
    "        # NDVI = (IR band - red band) / (IR band + red band)\n",
    "        # See: https://www.earthdatascience.org/courses/earth-analytics-python/multispectral-remote-sensing-in-python/vegetation-indices-NDVI-in-python/\n",
    "        def ndvi_func(bands):\n",
    "            #print(bands)\n",
    "            #print(str(bands[0]) + \" : \" + str(bands[3]))\n",
    "            if (bands[1] + bands[4]) > 0:\n",
    "                ndvi = (bands[4] - bands[1]) / (bands[4] + bands[1])\n",
    "                #print(ndvi)\n",
    "                if ndvi > 0:\n",
    "                    return(ndvi)\n",
    "                else:\n",
    "                    return(ndvi)\n",
    "            else:\n",
    "                return(0)\n",
    "        \n",
    "        out_df['ndvi'] = [ndvi_func(row) for row in out_df.itertuples()]\n",
    "    \n",
    "    stop = time.time()\n",
    "    runtime = round(stop - start, 3)\n",
    "    print(\"Transformed image to dataframe in \" + str(runtime) + \" seconds.\")\n",
    "    return(out_df, img_metadata)"
   ]
  },
  {
   "cell_type": "markdown",
   "metadata": {},
   "source": [
    "Because each NAIP image contains over 4,000,000 pixels, it takes approximately 1 minute to run this function.  Note that we are also computing the NDVI value for each pixel as we go along.  We are also saving the image metadata for later use, as this will come in handy when we need to coerce the image back into its original width and height."
   ]
  },
  {
   "cell_type": "code",
   "execution_count": 9,
   "metadata": {},
   "outputs": [
    {
     "name": "stdout",
     "output_type": "stream",
     "text": [
      "Computing NDVI\n",
      "Transformed image to dataframe in 63.162 seconds.\n"
     ]
    }
   ],
   "source": [
    "train_img_df, train_img_metadata = make_img_long(train_images[0], compute_ndvi=True)"
   ]
  },
  {
   "cell_type": "markdown",
   "metadata": {},
   "source": [
    "## Train NMF Models\n",
    "\n",
    "I initially started the modeling process with a very \"naive\" approach: I simply pumped the training image data through scikit-learn's NMF function, and told it to extract a 2-, 3-, 4-, 5-, or 6- class model with no additional discernment or segmentation between pixels being passed to the model.  The results were less than impressive:"
   ]
  },
  {
   "cell_type": "markdown",
   "metadata": {},
   "source": [
    "[insert screenshot here]"
   ]
  },
  {
   "cell_type": "markdown",
   "metadata": {},
   "source": [
    "Fortunately, a group of researchers at the EPA has an interesting finding when conducting a similar image classification task, also on NAIP imagery.  They make an important observation that seemed relevant to helping improve the model:\n",
    "\n",
    "> \"Shadows cast by vegetation and structures add significant noise to imagery at one meter resolution. Shadows typically appear at the edges of tall buildings and trees, and mottled within tree canopies, and are commonly misclassified as water or impervious surface. Using a binary step of classifying vegetation versus non-vegetation reduced these errors.\" (See: [Baynes, et al.](https://www.epa.gov/sites/production/files/2015-11/documents/baynes_esri_landcover_120313.pdf))\n",
    "\n",
    "With this in mind, I heavily adapted the model to the final version you see below.  Because the training and test fit process share so many similar steps, the `fit_ndvi_segmented_nmf()` function below can actually perform _both_ the training and test fits, based on user inputs.  The function takes the following arguments:\n",
    "\n",
    "- `model_name`: used as the beginning of the filename when saving the model to disk (recommended to use a name that acts as a reminder of which image the model was trained on)\n",
    "- `img_df_long`: raster image data, coerced to a list format using `make_img_long()` function defined above\n",
    "- `img_metadata`: raster image metadata, extracted from the `make_img_long()` function above, and used to coerce the data back into its original image dimensions\n",
    "- `mode`: whether to train a new model (\"train\"), or load existing models from disk and fit to new image data (\"test\")\n",
    "- `ndvi_water_cutoff`: determine which cutoff to use for classifying pixels as water; any pixels with NDVI values below this cutoff will be automatically classified as water\n",
    "- `ndvi_pos_components`: how many land use classes to extract in the NDVI positive range (generally corresponding to vegetation)\n",
    "- `ndvi_neg_components`: how many land use classes to extract in the NDVI negative range (generally corresponding to urban/built environments)\n",
    "- `save_to_file` & `filename`: whether to save the resulting classified raster to disk, and which filename to use\n",
    "\n",
    "The modeling proceeds as follows:\n",
    "\n",
    "1. Segment the image data into three classes based on the pixels' NDVI values: 1) pixels that likely represent water; 2) pixels with positive NDVI values; 3) pixels with negative NDVI values that are greater than the cutoff value used for water\n",
    "\n",
    "2. Train two separate models--one for pixels with positive NDVI values and one for pixels with negative NDVI values.  The user can specify how many separate land use classes (i.e. NMF components) to extract within each model.\n",
    "\n",
    "3. Save the two models to disk, so they can be used later to classify test images.\n",
    "\n",
    "4. For pixels with an NDVI value that is lower than the ndvi_water_cutoff threshold, simply classify these as 'water' with no additional modeling effort required.\n",
    "\n",
    "5. For all other pixels, use the pixel weights extracted from the models to determine which class/component each pixel is most likely to belong to. This is accomplished with a simple call to `argmax` for each row in the weights matrices that are yielded from each model.\n",
    "\n",
    "6. Coerce the input image list back into its original height and width dimensions.  Save the resulting raster to disk so it can be visualized in a GIS tool, if desired. "
   ]
  },
  {
   "cell_type": "code",
   "execution_count": null,
   "metadata": {},
   "outputs": [],
   "source": [
    "from sklearn.decomposition import NMF\n",
    "import joblib # for saving models\n",
    "\n",
    "def fit_ndvi_segmented_nmf(model_name, img_df_long, img_metadata, mode = \"train\",\n",
    "                           ndvi_water_cutoff = -0.35, ndvi_pos_components=2, ndvi_neg_components=2, \n",
    "                           save_to_file=False, filename= \"\"):\n",
    "    \n",
    "    # Get pixels that are obviously water\n",
    "    ndvi_water_pixels = img_df_long.loc[img_df_long['ndvi'] <= ndvi_water_cutoff]\n",
    "    \n",
    "    # Get pixels where NDVI value is > 0\n",
    "    ndvi_pos_pixels = img_df_long.loc[img_df_long['ndvi'] > 0]\n",
    "    \n",
    "    # Get pixels where NDVI value is < 0\n",
    "    ndvi_neg_pixels = img_df_long.loc[(img_df_long['ndvi'] > ndvi_water_cutoff) & (img_df_long['ndvi'] <= 0)]\n",
    "\n",
    "    if mode == \"train\":\n",
    "        # Fit NDVI positive model \n",
    "        start1 = time.time()\n",
    "        ndvi_pos_model = NMF(n_components=ndvi_pos_components, init='random', random_state=0)\n",
    "        ndvi_pos_model_W = ndvi_pos_model.fit_transform(ndvi_pos_pixels[[0, 1, 2, 3]]) # Pass only the 4-band pixel values to train one\n",
    "        ndvi_pos_model_H = ndvi_pos_model.components_\n",
    "        stop1 = time.time()\n",
    "        runtime1 = round(stop1 - start1, 3)\n",
    "        print(\"NDVI Positive Model completed in \" + str(runtime1) + \" seconds.\")\n",
    "        # Save the model for future use\n",
    "        joblib.dump(ndvi_pos_model, './models/{}_NMF_{}pos_classes.joblib'.format(model_name, ndvi_pos_components)) \n",
    "\n",
    "        # Fit NDVI negative model\n",
    "        start2 = time.time()\n",
    "        ndvi_neg_model = NMF(n_components=ndvi_neg_components, init='random', random_state=0)\n",
    "        ndvi_neg_model_W = ndvi_neg_model.fit_transform(ndvi_neg_pixels[[0, 1, 2, 3]])\n",
    "        ndvi_neg_model_H = ndvi_neg_model.components_\n",
    "        stop2 = time.time()\n",
    "        runtime2 = round(stop2 - start2, 3)\n",
    "        print(\"NDVI Negative Model completed in \" + str(runtime2) + \" seconds.\")\n",
    "        # Save the model for future use\n",
    "        joblib.dump(ndvi_neg_model, './models/{}_NMF_{}neg_classes.joblib'.format(model_name, ndvi_neg_components))\n",
    "    \n",
    "    if mode == \"test\":\n",
    "        print(\"Fitting positive/negative NDVI models to test data...\")\n",
    "        # Load models from file, then fit\n",
    "        start = time.time()\n",
    "        ndvi_pos_model = joblib.load('./models/{}_NMF_{}pos_classes.joblib'.format(model_name, ndvi_pos_components))\n",
    "        ndvi_pos_model_W = ndvi_pos_model.transform(ndvi_pos_pixels[[0, 1, 2, 3]])\n",
    "    \n",
    "        ndvi_neg_model = joblib.load('./models/{}_NMF_{}neg_classes.joblib'.format(model_name, ndvi_neg_components))\n",
    "        ndvi_neg_model_W = ndvi_neg_model.transform(ndvi_neg_pixels[[0, 1, 2, 3]])\n",
    "        \n",
    "        stop = time.time()\n",
    "        runtime = round(stop - start, 3)\n",
    "        print(\"Models fit to test data in \" + str(runtime) + \" seconds.\")\n",
    "    \n",
    "    # Classify using argmax to get the category with the highest weight for each pixel\n",
    "    ndvi_water_pixels['category'] = 0 # assign water pixels to category=0\n",
    "    ndvi_pos_pixels['category'] = np.argmax(ndvi_pos_model_W, axis=1) + 1 # offset category number by 1 to leave room for water class\n",
    "    ndvi_neg_pixels['category'] = np.argmax(ndvi_neg_model_W, axis=1) + 1 + ndvi_pos_components # make sure our category values don't overlap\n",
    "    \n",
    "    # Recombine dataframe by appending everything together, then sort on the index put pixels back in order\n",
    "    out_df = ndvi_water_pixels.append(ndvi_pos_pixels)\n",
    "    out_df = out_df.append(ndvi_neg_pixels).sort_index()\n",
    "    \n",
    "    # Take the categorized data and coerce into a numpy array that's in the shape of the original images\n",
    "    out_img = np.reshape(np.array(out_df['category']), (img_metadata['height'], img_metadata['width']))\n",
    "    \n",
    "    if save_to_file:\n",
    "        img_metadata.update({\n",
    "            'count': 1, # we now only have a single-band image containing integer classifications\n",
    "            'dtype': rasterio.uint8\n",
    "        })\n",
    "        \n",
    "        filename = './classified_images/{}_{}pos_{}neg_{}.tif'.format(model_name, ndvi_pos_components, ndvi_neg_components, filename)\n",
    "        # Save classified data to a GeoTIFF file\n",
    "        with rasterio.open(filename, \"w\", **img_metadata) as dest:\n",
    "            dest.write(out_img.astype(rasterio.uint8), 1)\n",
    "    else:\n",
    "        # Only return values if we haven't saved the results to a file; this takes up space in memory, \n",
    "        # so returning results in this way is not recommended for batch processing\n",
    "        return(out_df, out_img) "
   ]
  },
  {
   "cell_type": "code",
   "execution_count": null,
   "metadata": {},
   "outputs": [],
   "source": [
    "# Model 1: 3 positive & 3 negative classes\n",
    "fit_ndvi_segmented_nmf('StPaulCampus', train_img_df, train_img_metadata, mode = \"train\",\n",
    "                       ndvi_neg_components = 3, ndvi_pos_components = 3, ndvi_water_cutoff = -0.3,\n",
    "                       save_to_file = True, filename = 'TRAIN')"
   ]
  },
  {
   "cell_type": "code",
   "execution_count": null,
   "metadata": {},
   "outputs": [],
   "source": [
    "# Model 2: 5 positive & 5 negative classes\n",
    "fit_ndvi_segmented_nmf('StPaulCampus', train_img_df, train_img_metadata, mode = \"train\",\n",
    "                       ndvi_neg_components = 5, ndvi_pos_components = 5, ndvi_water_cutoff = -0.3,\n",
    "                       save_to_file = True, filename = 'TRAIN')"
   ]
  },
  {
   "cell_type": "markdown",
   "metadata": {},
   "source": [
    "### Training summary\n",
    "\n",
    "I conducted two rounds of training: one that extracted 3 positive/3 negative NMF components, and one that extracted 5 positive/5 negative NMF components. On a virtualized Windows environment with 4 dedicated cores on an AMD Ryzen 5 processor and 16GB of memory, the training time was as follows:\n",
    "\n",
    "| Nbr of classes | Train model      | Apply model to single test image |\n",
    "|----------------|------------------| ---------------------------------|\n",
    "| 3 pos / 3 neg  | 5.5 min / 4 min  | 3 min                            |\n",
    "| 5 pos / 5 neg  | 12 min / 9 min   | 7 min                            |\n",
    "\n",
    "The components extracted by the NMF models have the advantage of being somewhat human interpretable: they essentially describe the unique mixtures of red, green, blue, and near-infrared saturation that make up each land use classification that was \"learned\" during the training.  Let's visually examine these classes and try to make sense of them. "
   ]
  },
  {
   "cell_type": "code",
   "execution_count": 19,
   "metadata": {},
   "outputs": [],
   "source": [
    "import joblib\n",
    "from matplotlib import pyplot as plt\n",
    "from matplotlib.colors import ListedColormap\n",
    "%matplotlib inline\n",
    "\n",
    "def visualize_extracted_classes(model_name, ndvi_neg_components = 3, ndvi_pos_components = 3):\n",
    "    pos_model = joblib.load('./models/{}_NMF_{}pos_classes.joblib'.format(model_name, ndvi_pos_components))\n",
    "    pos_components = pos_model.components_\n",
    "    \n",
    "    neg_model = joblib.load('./models/{}_NMF_{}neg_classes.joblib'.format(model_name, ndvi_neg_components))\n",
    "    neg_components = neg_model.components_\n",
    "    \n",
    "    pos_components_df = pd.DataFrame({'red': pos_components[:,0], \n",
    "                                      'green': pos_components[:,1], \n",
    "                                      'blue': pos_components[:,2], \n",
    "                                      'infrared': pos_components[:,3]})\n",
    "    \n",
    "    neg_components_df = pd.DataFrame({'red': neg_components[:,0], \n",
    "                                      'green': neg_components[:,1], \n",
    "                                      'blue': neg_components[:,2], \n",
    "                                      'infrared': neg_components[:,3]})\n",
    "\n",
    "    colors = ListedColormap(['red', 'green', 'blue', 'gray'])\n",
    "    \n",
    "    fig, (ax1, ax2) = plt.subplots(1, 2, figsize=(12, 3))\n",
    "    pos_components_df.plot(kind='bar', cmap=colors, title='Positive NDVI Components Extracted via NMF ({} classes)'.format(ndvi_pos_components), ax=ax1)\n",
    "    neg_components_df.plot(kind='bar', cmap=colors, title='Negative NDVI Components Extracted via NMF ({} classes)'.format(ndvi_neg_components), ax=ax2)"
   ]
  },
  {
   "cell_type": "markdown",
   "metadata": {},
   "source": [
    "Let's first examine the model with 3 positive/3 negative classes.  Starting with the positive components first, it looks like the first two positive components are somewhat similar: they both are weighted strongly in the red, green, and blue spectral bands.  The main difference is that the second positive component weights very low on the near-infrared band.  Interestingly, the latter appears to be a characteristic of artificial turf, suggesting this class likely corresponds to artifical turf (see: [Lillesand & Kiefer, 1979, p. 76](https://ntrs.nasa.gov/archive/nasa/casi.ntrs.nasa.gov/19810004007.pdf)).  The third positive component is weighted strongly in the green and blue spectral bands, but has little to no red--a phenomenon which appears to be characteristic of tree cover (see: Lillesand & Kiefer, 1979, p. 15).\n",
    "\n",
    "Examining the negative components, we see that the first class is weighted similarly on the red, green, blue, and infrared bands.  The existence of all three visible bands suggests this is associated with material that is dark, and the presence of strong weight in the infrared band suggests this material may also contain some vegetation, which means this is likely to represent soil or clay.  The second negative component still weights strongly in red, green, and blue, but its infrared weight is quite low, suggesting that pixels with this classification are unlikely to have any vegetative matter.  This could represent asphalt, paved roads, and buildings.  The final class is a bit of a puzzle: it has virtually no blue, but weighs relatively strongly in the infrared band.  What this means is a little unclear, but it seems possible this could represent material that is lighter in color, and that may contain some vegetation.  This could be something like sand, which seems like it should be similar to dirt (the first class) in its infrared weight, but lighter in color and hence weighing less in the blue spectrum."
   ]
  },
  {
   "cell_type": "code",
   "execution_count": 20,
   "metadata": {
    "scrolled": true
   },
   "outputs": [
    {
     "data": {
      "image/png": "[encoded data removed]",
      "text/plain": [
       "<Figure size 864x216 with 2 Axes>"
      ]
     },
     "metadata": {
      "needs_background": "light"
     },
     "output_type": "display_data"
    }
   ],
   "source": [
    "visualize_extracted_classes('StPaulCampus', 3, 3)"
   ]
  },
  {
   "cell_type": "markdown",
   "metadata": {},
   "source": [
    "Let's next examine the model with 5 positive/5 negative classes.  Looking at the positive components, we see similar patterns as the first model: the first positive class in the chart seems likely to represent grass, the second positive class seems likely to represent artificial turf, or possibly dead grass that is losing reflectance in the infrared spectrum and gaining in the red spectrum.  The third and forth classes are interesting, as they both have little or no weight in the red spectrum, but vary starkly in their infrared weight.  The lack of red in both of these classes suggests tree cover; indeed, if we examine Lillesand and Kiefer's discussion of the spectral reflecance of tree cover (p. 15), we notice that deciduous and coniferous trees both reflect very little in the red range, but can vary in their infrared reflectance.  This suggests that the third class is likely to represent deciduous trees, which reflect strongly in the infrared spectrum, and the fourth class could be coniferous trees, which are weaker in infrared reflectance.  The final class is more ambiguous, but seems like it should represent something relatively light in color (due to the lack of blue) and vegetative; this could be something like algae or vegetative swampland.\n",
    "\n",
    "Looking at the negative classes, we again see that the first class in the chart is likely to be dirt or clay, as its signature is very simlar to the first negative component in the previous model.  The second class again seems likely to be asphalt or buildings, due to its lack of reflectance in the infrared band.  The third class is more confusing: it contains only green and blue reflectance in the visible specture, but has high weight in the infrared band.  This could be darker soil of some sort.  \n",
    "\n",
    "The final two classes are more confusing.  By \"cheating\" a bit and looking at the classified image in a GIS program, we can tell that the fourth class appears to be associated with shade, and often shaded asphalt.  This is not a particularly useful classification, and seems to have only emerged because, by adding additional components during training, we have allowed the model to overfit to some of the noise in the data.  In the simpler, 3-class model, this shade classification does not emerge, and pixels appear to be classified with the asphalt/buildings class, where they _actually_ below.  The fifth and final class, when viewed in a GIS program, makes it look like this is a class that focuses on red objects (ex: red roof, running tracks, etc.).  It is possible this class emerged during training thanks to the existence of a number of buildings on the St. Paul Campus that have distinctively red roofs--enough to make the model sit up and pay attention!  A class category like this could be useful in cities where roofs often tend to be make of red clay or similar materials, but it is a bit too specific to be useful in a broader-purpose model."
   ]
  },
  {
   "cell_type": "code",
   "execution_count": 21,
   "metadata": {},
   "outputs": [
    {
     "data": {
      "image/png": "[encoded data removed]",
      "text/plain": [
       "<Figure size 864x216 with 2 Axes>"
      ]
     },
     "metadata": {
      "needs_background": "light"
     },
     "output_type": "display_data"
    }
   ],
   "source": [
    "visualize_extracted_classes('StPaulCampus', 5, 5)"
   ]
  },
  {
   "cell_type": "markdown",
   "metadata": {},
   "source": [
    "On the whole, it seems like the 3 positive/3 negative class model did the best job of classifying the data without introducing the \"noise\" of more esoteric classes that are unlikely to generalize well to classify other images.  We will proceed with this model to use for classifying the test images, and assess its peformance in the final accuracy assessment step."
   ]
  },
  {
   "cell_type": "markdown",
   "metadata": {},
   "source": [
    "## Fit Classifications to Test Data\n",
    "\n",
    "We can leverage the same `fit_ndvi_segmented_nmf()` function introduced above, this time with `mode=\"test\"`, to apply the trained models to new test images.  This step takes the components \"learned\" during modeling, and applies them to the test images to extract weights for each pixel in the test images.  It then finds the maximum weight for each pixel when crossed with the components from the models, and uses that as the predicted classification for that pixel."
   ]
  },
  {
   "cell_type": "code",
   "execution_count": null,
   "metadata": {},
   "outputs": [],
   "source": [
    "# Fit model to test images\n",
    "for i in range(len(test_images)):\n",
    "    print(\"Fitting image \" + str(i) + \"...\")\n",
    "    \n",
    "    # Convert the img to a list format\n",
    "    test_img_df, test_img_metadata = make_img_long(test_images[i], compute_ndvi=True) \n",
    "    \n",
    "    # Run the model and save the results to a file\n",
    "    filename_to_save = 'TEST' + str(i)\n",
    "    fit_ndvi_segmented_nmf('StPaulCampus', test_img_df, test_img_metadata, mode = \"test\",\n",
    "                           ndvi_neg_components = 5, ndvi_pos_components = 5, \n",
    "                           save_to_file = True, filename = filename_to_save)"
   ]
  }
 ],
 "metadata": {
  "kernelspec": {
   "display_name": "Python 3",
   "language": "python",
   "name": "python3"
  },
  "language_info": {
   "codemirror_mode": {
    "name": "ipython",
    "version": 3
   },
   "file_extension": ".py",
   "mimetype": "text/x-python",
   "name": "python",
   "nbconvert_exporter": "python",
   "pygments_lexer": "ipython3",
   "version": "3.7.1"
  }
 },
 "nbformat": 4,
 "nbformat_minor": 2
}
