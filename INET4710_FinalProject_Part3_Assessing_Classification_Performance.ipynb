{
 "cells": [
  {
   "cell_type": "markdown",
   "metadata": {},
   "source": [
    "# Assessing Classification Performance"
   ]
  },
  {
   "cell_type": "code",
   "execution_count": 3,
   "metadata": {},
   "outputs": [],
   "source": [
    "data_filepath = str(u\"C:\\\\Users\\\\Alison Link\\\\Documents\\\\INET4710\\\\FinalProjectData\\\\\")\n",
    "\n",
    "train_images = [\n",
    "    [data_filepath + u'naip\\\\2015\\\\twincities\\\\m_4409307_ne_15_1_20150927_20151221.tif', # just west of downtown St. Paul (by St. Paul campus)  \n",
    "    data_filepath + u'ground_truth_comparison_data\\\\comparison_clips\\\\comparison_clip_TRAIN.tif']\n",
    "]\n",
    "\n",
    "test_images = [\n",
    "    [data_filepath + u'naip\\\\2015\\\\twincities\\\\m_4409306_ne_15_1_20150930_20151221.tif', # downtown Minneapolis\n",
    "     data_filepath + u'ground_truth_comparison_data\\\\comparison_clips\\\\comparison_clip_TEST0.tif'],\n",
    "    [data_filepath + u'naip\\\\2015\\\\twincities\\\\m_4409307_nw_15_1_20150927_20151221.tif', # just east of downtown Minneapolis\n",
    "     data_filepath + u'ground_truth_comparison_data\\\\comparison_clips\\\\comparison_clip_TEST1.tif'],\n",
    "    [data_filepath + u'naip\\\\2015\\\\twincities\\\\m_4409308_nw_15_1_20150927_20151221.tif', # downtown St. Paul\n",
    "     data_filepath + u'ground_truth_comparison_data\\\\comparison_clips\\\\comparison_clip_TEST1.tif']\n",
    "]"
   ]
  },
  {
   "cell_type": "code",
   "execution_count": null,
   "metadata": {},
   "outputs": [],
   "source": [
    "# Dictionary to map which classes are NDVI positive and which are negative in the training and \n",
    "# \"ground truth\" data\n",
    "train_ndvi_dict = {\n",
    "    'ndvi_pos': [1, 2, 3],\n",
    "    'ndvi_neg': [4, 5, 6]\n",
    "}\n",
    "\n",
    "gt_ndvi_dict = {\n",
    "    'ndvi_pos': [1, 6, 7, 8],\n",
    "    'ndvi_neg': [2, 3, 4, 12]\n",
    "}\n",
    "\n",
    "def calculate_ndvi_classification_performance(img_set):\n",
    "    ''' Does the model discern correctly between pixels that are NDVI + and NDVI - ? '''\n",
    "    \n",
    "    target_img = rasterio.open(img_set[0])\n",
    "    gt_img = rasterio_open(img_set[1])\n",
    "    \n",
    "    "
   ]
  },
  {
   "cell_type": "code",
   "execution_count": null,
   "metadata": {},
   "outputs": [],
   "source": [
    "# Dictionary to map categories for comparison between train/test classification comparable values in the \n",
    "# \"ground truth\" data\n",
    "classification_compare_dict = {\n",
    "    0: [5, 9, 10, 11], # water features\n",
    "    1: [1, 8], # grass (and agriculture)\n",
    "    #2: # artificial turf\n",
    "    3: [6, 7], # trees\n",
    "    4: [2, 12], # dirt\n",
    "    5: [3, 4], # asphalt/buildings\n",
    "    6: [2, 12] # sand & light roofs\n",
    "}\n",
    "\n",
    "def calculate_classification_performance()"
   ]
  }
 ],
 "metadata": {
  "kernelspec": {
   "display_name": "Python 3",
   "language": "python",
   "name": "python3"
  },
  "language_info": {
   "codemirror_mode": {
    "name": "ipython",
    "version": 3
   },
   "file_extension": ".py",
   "mimetype": "text/x-python",
   "name": "python",
   "nbconvert_exporter": "python",
   "pygments_lexer": "ipython3",
   "version": "3.7.1"
  }
 },
 "nbformat": 4,
 "nbformat_minor": 2
}
